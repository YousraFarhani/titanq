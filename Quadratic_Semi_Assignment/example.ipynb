{
 "cells": [
  {
   "cell_type": "code",
   "execution_count": null,
   "metadata": {},
   "outputs": [],
   "source": [
    "# Copyright (c) 2024, InfinityQ Technology Inc.\n",
    "\n",
    "import numpy as np\n",
    "from problem_gen import *\n",
    "from titanq import Model, Vtype, Target, S3Storage\n",
    "import logging"
   ]
  },
  {
   "cell_type": "markdown",
   "metadata": {},
   "source": [
    "## Setting Credentials for TitanQ\n",
    "The user should configure their TitanQ API key here. For very large problems, the user must also configure an AWS Access key, AWS Secret Access key and AWS Bucket Name."
   ]
  },
  {
   "cell_type": "code",
   "execution_count": null,
   "metadata": {},
   "outputs": [],
   "source": [
    "logging.getLogger('botocore').setLevel(logging.CRITICAL)\n",
    "logging.getLogger('urllib3').setLevel(logging.CRITICAL)\n",
    "\n",
    "# Enter your API Key Here\n",
    "# Obtain your API key by contacting --> support@infinityq.tech\n",
    "# Example: TITANQ_DEV_API_KEY = \"00000000-0000-0000-0000-000000000000\"\n",
    "TITANQ_DEV_API_KEY = None\n",
    "\n",
    "# Specify AWS keys and bucket name for solving very large problems\n",
    "# AWS_ACCESS_KEY = \"Your Access key\"\n",
    "# AWS_SECRET_ACCESS_KEY = \"Your secret access key\"\n",
    "# AWS_BUCKET_NAME = \"Your bucket name\""
   ]
  },
  {
   "cell_type": "markdown",
   "metadata": {},
   "source": [
    "## Problem Definition\n",
    "Load input matrices:\n",
    "- Flow Matrix = Indicates the dependencies between materials\n",
    "\n",
    "- Distance Matrix = Lists the distance between locations\n",
    "\n",
    "- Production Cost Matrix = Lists the costs for a facility to finish a material\n",
    "\n",
    "All matrices are stored as Float32 numpy arrays."
   ]
  },
  {
   "cell_type": "markdown",
   "metadata": {},
   "source": [
    "Example of a Flow Matrix with 4 materials:\n",
    "\n",
    "$$\\begin{bmatrix} \n",
    " & material_1 & material_2 & material_3 & material_4 \\\\ \n",
    "material_1 & 0 & 1 & 1 & 0 \\\\ \n",
    "material_2 & 1 & 0 & 0 & 1 \\\\\n",
    "material_3 & 1 & 0 & 0 & 1 \\\\\n",
    "material_4 & 0 & 1 & 1 & 0\n",
    "\\end{bmatrix}$$\n",
    "\n",
    "The Flow Matrix describes the dependencies between the processing of materials."
   ]
  },
  {
   "cell_type": "code",
   "execution_count": null,
   "metadata": {},
   "outputs": [],
   "source": [
    "flow_matrix = np.genfromtxt(\"input/flow_matrix.csv\", delimiter=\",\")"
   ]
  },
  {
   "cell_type": "markdown",
   "metadata": {},
   "source": [
    "Example of a Distance Matrix with 4 locations:\n",
    "\n",
    "$$\\begin{bmatrix} \n",
    " & location_1 & location_2 & location_3 & location_4 \\\\ \n",
    "location_1 & \\lambda & 0 & 5 & 8 \\\\ \n",
    "location_2 & 0 & \\lambda & 5 & 8 \\\\\n",
    "location_3 & 5 & 0 & \\lambda & 6 \\\\\n",
    "location_4 & 8 & 8 & 6 & \\lambda\n",
    "\\end{bmatrix}$$\n",
    "where $\\lambda$ is a parameter that can be used to tune how much the materials are spread out across the locations.\n",
    "\n",
    "The Distance Matrix contains information regarding the distance between locations."
   ]
  },
  {
   "cell_type": "code",
   "execution_count": null,
   "metadata": {},
   "outputs": [],
   "source": [
    "distance_matrix = np.genfromtxt(\"input/distance_matrix.csv\", delimiter=\",\")"
   ]
  },
  {
   "cell_type": "markdown",
   "metadata": {},
   "source": [
    "Example of a Production Cost Matrix with 4 facilities and 4 materials:\n",
    "\n",
    "$$\\begin{bmatrix} \n",
    " & facility_1 & facility_2 & facility_3 & facility_4 \\\\ \n",
    "material_1 & 10 & 0 & 5 & 0 \\\\ \n",
    "material_2 & 0 & 12 & 0 & 10 \\\\\n",
    "material_3 & 10 & 0 & 5 & 0 \\\\\n",
    "material_4 & 0 & 12 & 0 & 10\n",
    "\\end{bmatrix}$$\n",
    "where every cell with the value 0 can be replaced by a penalty factor to penalize invalid assignments.\n",
    "\n",
    "The Production Cost Matrix contains information regarding the processing costs associated with a certain material and facility."
   ]
  },
  {
   "cell_type": "code",
   "execution_count": null,
   "metadata": {},
   "outputs": [],
   "source": [
    "production_cost_matrix = np.genfromtxt(\"input/production_cost_matrix.csv\", delimiter=\",\")"
   ]
  },
  {
   "cell_type": "markdown",
   "metadata": {},
   "source": [
    "## Generate Inputs for the TitanQ SDK\n",
    "\n",
    "- weights\n",
    "- bias\n",
    "- constraint weights\n",
    "- constraint bias"
   ]
  },
  {
   "cell_type": "code",
   "execution_count": null,
   "metadata": {},
   "outputs": [],
   "source": [
    "weights = generate_weights(flow_matrix, distance_matrix)\n",
    "\n",
    "bias = generate_bias(production_cost_matrix)\n",
    "\n",
    "constraint_weights = generate_constraint_weights(production_cost_matrix)\n",
    "\n",
    "constraint_bias = generate_constraint_bias(constraint_weights)"
   ]
  },
  {
   "cell_type": "markdown",
   "metadata": {},
   "source": [
    "## Call TitanQ Solver\n",
    "\n",
    "Define the variable name along with the variable type.\n",
    "\n",
    "Set the weights, bias, weight constraints and bias constraints defined above previously and insert them into the SDK.\n",
    "\n",
    "Specify whether to minimize or maximize the Hamiltonian as the objective of the solver (Set to Target.MINIMIZE by default).\n",
    "\n",
    "Additional hyperparameters which can be tuned include:\n",
    "\n",
    "- beta = Scales the problem by this factor (inverse of temperature). A lower beta allows for easier escape from local minima, while a higher beta is more likely to respect penalties and constraints.\n",
    "\n",
    "- coupling_mult = Strength of the minor embedding for the TitanQ specific hardware.\n",
    "\n",
    "- timeout_in_secs = Maximum runtime of the solver in seconds.\n",
    "\n",
    "- num_chains = Number of parallel runs executed by the solver. A larger number of parallel runs generally leads to higher quality solutions.\n"
   ]
  },
  {
   "cell_type": "code",
   "execution_count": null,
   "metadata": {},
   "outputs": [],
   "source": [
    "# Initialize the model\n",
    "model = Model(\n",
    "    api_key=TITANQ_DEV_API_KEY,\n",
    "    # Insert storage_client parameter and specify corresponding AWS keys and bucket name for solving very large problems\n",
    "    # storage_client=S3Storage(\n",
    "    #     access_key=AWS_ACCESS_KEY,\n",
    "    #     secret_key=AWS_SECRET_ACCESS_KEY,\n",
    "    #     bucket_name=AWS_BUCKET_NAME\n",
    "    # )\n",
    ")\n",
    "\n",
    "# Construct the problem\n",
    "model.add_variable_vector('x', len(weights), Vtype.BINARY)\n",
    "model.set_objective_matrices(weights, bias, Target.MINIMIZE)\n",
    "model.add_equality_constraints_matrix(constraint_weights, constraint_bias[:, 1])\n",
    "\n",
    "# Set hyperparameters and call the solver\n",
    "num_chains = 128\n",
    "beta = np.full(num_chains, 1)\n",
    "response = model.optimize(beta=beta, timeout_in_secs=3, coupling_mult=50, num_engines=2, num_chains=num_chains)\n",
    "\n",
    "# Print the solution and keep track of state of lowest Ising energy\n",
    "print(\"-\" * 15, \"+\", \"-\" * 26, sep=\"\")\n",
    "print(\"Ising energy   | Result vector\")\n",
    "print(\"-\" * 15, \"+\", \"-\" * 26, sep=\"\")\n",
    "ctr = 0\n",
    "for ising_energy, result_vector in response.result_items():\n",
    "    print(f\"{ising_energy: <14f} | {result_vector}\")\n",
    "    if ctr == 0:\n",
    "        lowest_ising_energy = ising_energy\n",
    "        index = 0\n",
    "    elif ising_energy < lowest_ising_energy:\n",
    "        lowest_ising_energy = ising_energy\n",
    "        index = ctr\n",
    "    ctr += 1"
   ]
  },
  {
   "cell_type": "markdown",
   "metadata": {},
   "source": [
    "## Transforming TitanQ Output into Assignment\n",
    "\n",
    "The solution returned by TitanQ is transformed into a matrix with the rows corresponding to materials and the columns corresponding to facilities. The solution is stored in an Excel file. The format of the dictionary is: assignment[material] = facility."
   ]
  },
  {
   "cell_type": "code",
   "execution_count": null,
   "metadata": {},
   "outputs": [],
   "source": [
    "result_matrix = reshape_result_vector(response.result_vector()[index], len(flow_matrix), len(distance_matrix))\n",
    "\n",
    "material_names = [\"Material_1\", \"Material_2\", \"Material_3\", \"Material_4\"]\n",
    "facility_names = [\"Facility_1\", \"Facility_2\", \"Facility_3\", \"Facility_4\"]\n",
    "\n",
    "assignment = generate_assignment(result_matrix, material_names, facility_names)\n",
    "save_assignment(result_matrix,material_names,facility_names)\n",
    "\n",
    "print(assignment)"
   ]
  }
 ],
 "metadata": {
  "kernelspec": {
   "display_name": "Python 3",
   "language": "python",
   "name": "python3"
  },
  "language_info": {
   "codemirror_mode": {
    "name": "ipython",
    "version": 3
   },
   "file_extension": ".py",
   "mimetype": "text/x-python",
   "name": "python",
   "nbconvert_exporter": "python",
   "pygments_lexer": "ipython3",
   "version": "3.10.12"
  }
 },
 "nbformat": 4,
 "nbformat_minor": 2
}
